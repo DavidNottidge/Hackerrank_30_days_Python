{
 "cells": [
  {
   "cell_type": "code",
   "execution_count": 13,
   "metadata": {},
   "outputs": [
    {
     "name": "stdout",
     "output_type": "stream",
     "text": [
      "5 4 3 2 1\n"
     ]
    }
   ],
   "source": [
    "#!/bin/python3\n",
    "\n",
    "import math\n",
    "import os\n",
    "import random\n",
    "import re\n",
    "import sys\n",
    "\n",
    "\n",
    "#thsi solution assumes the user enters each number and then hits the enter key, it then prints the reverse after the number of entries are of \n",
    "#the specified length n\n",
    "if __name__ == '__main__':\n",
    "    n = int(input().strip())\n",
    "    \n",
    "    num_list = list()\n",
    "    for i in range(0, n):\n",
    "        num = int(input())\n",
    "        num_list.append(num)\n",
    "    # while True: \n",
    "    #     num = int(input())\n",
    "    #     if len(num_list) == n:\n",
    "    #         break\n",
    "    #     else:\n",
    "    #         num_list.append(num) \n",
    "    \n",
    "    new_list = num_list[::-1] #returns a new list which is num list in reverse order\n",
    "    print(*new_list)"
   ]
  },
  {
   "cell_type": "code",
   "execution_count": 17,
   "metadata": {},
   "outputs": [
    {
     "name": "stdout",
     "output_type": "stream",
     "text": [
      "7 4 2 5 5\n"
     ]
    }
   ],
   "source": [
    "if __name__ == '__main__':\n",
    "    n = int(input().strip())\n",
    "    \n",
    "    num_string = input()\n",
    "    mylist = num_string.split(' ')\n",
    "\n",
    "    arr = list(map (int, mylist))\n",
    "    reverse_list = arr[::-1]\n",
    "\n",
    "    print(*reverse_list)\n",
    "\n"
   ]
  }
 ],
 "metadata": {
  "kernelspec": {
   "display_name": "Python 3.10.8 64-bit (microsoft store)",
   "language": "python",
   "name": "python3"
  },
  "language_info": {
   "codemirror_mode": {
    "name": "ipython",
    "version": 3
   },
   "file_extension": ".py",
   "mimetype": "text/x-python",
   "name": "python",
   "nbconvert_exporter": "python",
   "pygments_lexer": "ipython3",
   "version": "3.10.8"
  },
  "orig_nbformat": 4,
  "vscode": {
   "interpreter": {
    "hash": "2df53de82fe139b23b9a340061c8527273b7fa86551030a1983ff618b17018eb"
   }
  }
 },
 "nbformat": 4,
 "nbformat_minor": 2
}
