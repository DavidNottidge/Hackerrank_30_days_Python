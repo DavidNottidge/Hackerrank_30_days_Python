{
 "cells": [
  {
   "cell_type": "code",
   "execution_count": 9,
   "metadata": {},
   "outputs": [
    {
     "name": "stdout",
     "output_type": "stream",
     "text": [
      "0\n",
      "1\n",
      "2\n",
      "3\n",
      "4\n",
      "5\n",
      "ivx vkq\n",
      "ivx vkq\n"
     ]
    }
   ],
   "source": [
    "# Enter your code here. Read input from STDIN. Print output to STDOUT\n",
    "T = int(input())\n",
    "for i in range(0, T):\n",
    "    word = input()\n",
    "    even_list = list()\n",
    "    odd_list = list()\n",
    "    \n",
    "    for index_num in range(0, len(word)):\n",
    "        #print(index_num)\n",
    "        if index_num%2 == 0:\n",
    "            even_list.append(word[index_num])\n",
    "        else:\n",
    "            odd_list.append(word[index_num])\n",
    "        even_word = ''.join(even_list)\n",
    "        odd_word = ''.join(odd_list)\n",
    "    print(f\"{even_word} {odd_word}\")"
   ]
  },
  {
   "cell_type": "code",
   "execution_count": 5,
   "metadata": {},
   "outputs": [
    {
     "name": "stdout",
     "output_type": "stream",
     "text": [
      "5\n",
      "0\n",
      "1\n",
      "2\n",
      "3\n",
      "4\n"
     ]
    }
   ],
   "source": [
    "name = \"David\"\n",
    "print(len(name))\n",
    "for i in range(0, len(name)):\n",
    "    print(i)"
   ]
  }
 ],
 "metadata": {
  "kernelspec": {
   "display_name": "Python 3.10.8 64-bit (microsoft store)",
   "language": "python",
   "name": "python3"
  },
  "language_info": {
   "codemirror_mode": {
    "name": "ipython",
    "version": 3
   },
   "file_extension": ".py",
   "mimetype": "text/x-python",
   "name": "python",
   "nbconvert_exporter": "python",
   "pygments_lexer": "ipython3",
   "version": "3.10.8"
  },
  "orig_nbformat": 4,
  "vscode": {
   "interpreter": {
    "hash": "2df53de82fe139b23b9a340061c8527273b7fa86551030a1983ff618b17018eb"
   }
  }
 },
 "nbformat": 4,
 "nbformat_minor": 2
}
