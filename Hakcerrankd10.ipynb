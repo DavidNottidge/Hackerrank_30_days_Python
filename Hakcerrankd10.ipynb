{
 "cells": [
  {
   "cell_type": "code",
   "execution_count": 13,
   "metadata": {},
   "outputs": [],
   "source": [
    "# num = int(input())\n",
    "# bin_num = bin(num)\n",
    "# num_in_bin = bin_num[2:]\n",
    "# print(num_in_bin)"
   ]
  },
  {
   "cell_type": "code",
   "execution_count": 75,
   "metadata": {},
   "outputs": [
    {
     "name": "stdout",
     "output_type": "stream",
     "text": [
      "0\n"
     ]
    }
   ],
   "source": [
    "num = int(input())\n",
    "bin_num = f'{num:b}'\n",
    "consecutive_counter = 0\n",
    "count_list = []\n",
    "\n",
    "for index, elem in enumerate(bin_num):\n",
    "    if index == 0:\n",
    "        continue \n",
    "    if elem == '1' and consecutive_counter == 0:\n",
    "        consecutive_counter = 1\n",
    "    if elem == '1':\n",
    "        if bin_num[index -1] == elem:\n",
    "            consecutive_counter += 1\n",
    "    else:\n",
    "        count_list.append(consecutive_counter)\n",
    "        consecutive_counter = 0\n",
    "        \n",
    "else:\n",
    "    count_list.append(consecutive_counter)\n",
    "    \n",
    "max_consecutive_counter = max(count_list)\n",
    "print(max_consecutive_counter)"
   ]
  },
  {
   "cell_type": "code",
   "execution_count": 78,
   "metadata": {},
   "outputs": [
    {
     "name": "stdout",
     "output_type": "stream",
     "text": [
      "16\n"
     ]
    }
   ],
   "source": [
    "# num = int(input().strip())\n",
    "# bin_num = f'{num:b}'\n",
    "# consecutive_counter = 0\n",
    "# count_list = []\n",
    "\n",
    "# for index, elem in enumerate(bin_num):\n",
    "#     if index == 0:\n",
    "#         continue \n",
    "#     if elem == '1':\n",
    "#         if bin_num[index -1] == elem:\n",
    "#             consecutive_counter += 1\n",
    "#     else:\n",
    "#         consecutive_counter += 1 \n",
    "#         count_list.append(consecutive_counter)\n",
    "#         consecutive_counter = 0\n",
    "        \n",
    "# else:\n",
    "#     consecutive_counter += 1 \n",
    "#     count_list.append(consecutive_counter)\n",
    "    \n",
    "# max_consecutive_counter = max(count_list)\n",
    "# print(max_consecutive_counter)"
   ]
  }
 ],
 "metadata": {
  "kernelspec": {
   "display_name": "Python 3.10.8 64-bit (microsoft store)",
   "language": "python",
   "name": "python3"
  },
  "language_info": {
   "codemirror_mode": {
    "name": "ipython",
    "version": 3
   },
   "file_extension": ".py",
   "mimetype": "text/x-python",
   "name": "python",
   "nbconvert_exporter": "python",
   "pygments_lexer": "ipython3",
   "version": "3.10.11"
  },
  "orig_nbformat": 4,
  "vscode": {
   "interpreter": {
    "hash": "2df53de82fe139b23b9a340061c8527273b7fa86551030a1983ff618b17018eb"
   }
  }
 },
 "nbformat": 4,
 "nbformat_minor": 2
}
