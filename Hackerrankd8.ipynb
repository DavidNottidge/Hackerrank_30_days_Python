{
 "cells": [
  {
   "cell_type": "code",
   "execution_count": 1,
   "metadata": {},
   "outputs": [],
   "source": [
    "    n = int(input())\n",
    "    Phonebook = {}\n",
    "    for i in range(0,n):\n",
    "        entry = input()\n",
    "        entry_items = entry.split(' ')\n",
    "        name = entry_items[0]\n",
    "        phone_number = entry_items[1]\n",
    "        Phonebook[name] = Phonebook.get(name, phone_number)\n",
    "\n"
   ]
  },
  {
   "cell_type": "code",
   "execution_count": 7,
   "metadata": {},
   "outputs": [
    {
     "name": "stdout",
     "output_type": "stream",
     "text": [
      "David=09037282917\n",
      "Not found\n",
      "James=08047362819\n",
      "Not found\n"
     ]
    }
   ],
   "source": [
    "while True:\n",
    "    name_query = input()\n",
    "    if len(name_query) < 1:\n",
    "        break\n",
    "    elif name_query in Phonebook:\n",
    "        print(f'{name_query}={Phonebook.get(name_query)}')\n",
    "    elif name_query not in Phonebook:\n",
    "        print('Not found')\n"
   ]
  },
  {
   "cell_type": "code",
   "execution_count": 9,
   "metadata": {},
   "outputs": [
    {
     "name": "stdout",
     "output_type": "stream",
     "text": [
      "David=09074829472\n"
     ]
    }
   ],
   "source": [
    "n = int(input())\n",
    "Phonebook = {}\n",
    "for i in range(0,n):\n",
    "    entry = input()\n",
    "    entry_items = entry.split(' ')\n",
    "    name = entry_items[0]\n",
    "    phone_number = entry_items[1]\n",
    "    Phonebook[name] = Phonebook.get(name, phone_number)\n",
    "#the try and except block is needed in the online IDE to avoid the EOF error \n",
    "#we use the keyword pass in the except block to catch the exception\n",
    "try:\n",
    "    while True:\n",
    "        name_query = input()\n",
    "        if len(name_query) < 1:\n",
    "            break\n",
    "        elif name_query in Phonebook:\n",
    "            print(f'{name_query}={Phonebook.get(name_query)}')\n",
    "        elif name_query not in Phonebook:\n",
    "            print('Not found')\n",
    "except:\n",
    "    pass\n"
   ]
  }
 ],
 "metadata": {
  "kernelspec": {
   "display_name": "Python 3.10.8 64-bit (microsoft store)",
   "language": "python",
   "name": "python3"
  },
  "language_info": {
   "codemirror_mode": {
    "name": "ipython",
    "version": 3
   },
   "file_extension": ".py",
   "mimetype": "text/x-python",
   "name": "python",
   "nbconvert_exporter": "python",
   "pygments_lexer": "ipython3",
   "version": "3.10.8"
  },
  "orig_nbformat": 4,
  "vscode": {
   "interpreter": {
    "hash": "2df53de82fe139b23b9a340061c8527273b7fa86551030a1983ff618b17018eb"
   }
  }
 },
 "nbformat": 4,
 "nbformat_minor": 2
}
