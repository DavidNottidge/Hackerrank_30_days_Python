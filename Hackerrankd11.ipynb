{
 "cells": [
  {
   "cell_type": "code",
   "execution_count": 7,
   "metadata": {},
   "outputs": [
    {
     "name": "stdout",
     "output_type": "stream",
     "text": [
      "19\n"
     ]
    }
   ],
   "source": [
    "a = [[1,1,1,0,0,0],[0,1,0,0,0,0],[1,1,1,0,0,0],[0,0,2,4,4,0],[0,0,0,2,0,0],[0,0,1,2,4,0]]\n",
    "sum_max = []\n",
    "for pos,list in zip(range(4),a):\n",
    "        for index in range(4):\n",
    "            h1 = list[index:index+3]\n",
    "            h2 = a[pos+1][index+1]\n",
    "            h3 = a[pos+2][index:index+3]\n",
    "            hg_sum = sum(h1) + h2 + sum(h3)\n",
    "            sum_max.append(hg_sum)\n",
    "print(max(sum_max))\n"
   ]
  },
  {
   "cell_type": "code",
   "execution_count": null,
   "metadata": {},
   "outputs": [],
   "source": [
    "class Person:\n",
    "\tdef __init__(self, firstName, lastName, idNumber):\n",
    "\t\tself.firstName = firstName\n",
    "\t\tself.lastName = lastName\n",
    "\t\tself.idNumber = idNumber\n",
    "\tdef printPerson(self):\n",
    "\t\tprint(\"Name:\", self.lastName + \",\", self.firstName)\n",
    "\t\tprint(\"ID:\", self.idNumber)\n",
    "\n",
    "class Student(Person):\n",
    "    #   Class Constructor\n",
    "    #   \n",
    "    #   Parameters:\n",
    "    #   firstName - A string denoting the Person's first name.\n",
    "    #   lastName - A string denoting the Person's last name.\n",
    "    #   id - An integer denoting the Person's ID number.\n",
    "    #   scores - An array of integers denoting the Person's test scores.\n",
    "    #\n",
    "    # Write your constructor here\n",
    "    def __init__(self, firstName, lastName, idNumber, scores):\n",
    "        Person.__init__(self, firstName, lastName, idNumber)\n",
    "        self.scores = scores\n",
    "    #   Function Name: calculate\n",
    "    #   Return: A character denoting the grade.\n",
    "    #\n",
    "    # Write your function here\n",
    "    def calculate(self):\n",
    "        num_scores = len(self.scores)\n",
    "        sum_scores = sum(self.scores)\n",
    "        average = sum_scores/num_scores\n",
    "        if 90 <= average <= 100:\n",
    "            Grade = \"O\"\n",
    "        elif 80 <= average < 90:\n",
    "            Grade = \"E\"\n",
    "        elif 70 <= average < 80:\n",
    "            Grade = \"A\"\n",
    "        elif 55 <= average < 70:\n",
    "            Grade = \"P\"\n",
    "        elif 40 <= average < 55:\n",
    "            Grade = \"D\"\n",
    "        else:\n",
    "            Grade = \"T\"\n",
    "        return Grade\n",
    "            \n",
    "\n",
    "line = input().split()\n",
    "firstName = line[0]\n",
    "lastName = line[1]\n",
    "idNum = line[2]\n",
    "numScores = int(input()) # not needed for Python\n",
    "scores = list( map(int, input().split()) )\n",
    "s = Student(firstName, lastName, idNum, scores)\n",
    "s.printPerson()\n",
    "print(\"Grade:\", s.calculate())  "
   ]
  },
  {
   "cell_type": "code",
   "execution_count": 1,
   "metadata": {},
   "outputs": [],
   "source": [
    "class Person:\n",
    "\tdef __init__(self, firstName, lastName, idNumber):\n",
    "\t\tself.firstName = firstName\n",
    "\t\tself.lastName = lastName\n",
    "\t\tself.idNumber = idNumber\n",
    "\tdef printPerson(self):\n",
    "\t\tprint(\"Name:\", self.lastName + \",\", self.firstName)\n",
    "\t\tprint(\"ID:\", self.idNumber)"
   ]
  },
  {
   "cell_type": "code",
   "execution_count": 2,
   "metadata": {},
   "outputs": [],
   "source": [
    "s = Person('David', 'Nottidge', '17cm022802')"
   ]
  },
  {
   "cell_type": "code",
   "execution_count": 3,
   "metadata": {},
   "outputs": [
    {
     "data": {
      "text/plain": [
       "'David'"
      ]
     },
     "execution_count": 3,
     "metadata": {},
     "output_type": "execute_result"
    }
   ],
   "source": [
    "s.firstName"
   ]
  },
  {
   "cell_type": "code",
   "execution_count": 8,
   "metadata": {},
   "outputs": [
    {
     "name": "stdout",
     "output_type": "stream",
     "text": [
      "1\n",
      "2\n"
     ]
    }
   ],
   "source": [
    "v = [1,2]\n",
    "for _ in v:\n",
    "    print(_)"
   ]
  },
  {
   "cell_type": "code",
   "execution_count": 4,
   "metadata": {},
   "outputs": [
    {
     "name": "stdout",
     "output_type": "stream",
     "text": [
      "8\n"
     ]
    }
   ],
   "source": [
    "scc = [1,2,2,3]\n",
    "print(sum(scc))"
   ]
  }
 ],
 "metadata": {
  "kernelspec": {
   "display_name": "Python 3",
   "language": "python",
   "name": "python3"
  },
  "language_info": {
   "codemirror_mode": {
    "name": "ipython",
    "version": 3
   },
   "file_extension": ".py",
   "mimetype": "text/x-python",
   "name": "python",
   "nbconvert_exporter": "python",
   "pygments_lexer": "ipython3",
   "version": "3.10.11"
  },
  "orig_nbformat": 4
 },
 "nbformat": 4,
 "nbformat_minor": 2
}
