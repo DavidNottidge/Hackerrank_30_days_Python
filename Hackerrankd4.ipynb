{
 "cells": [
  {
   "cell_type": "code",
   "execution_count": 4,
   "metadata": {},
   "outputs": [],
   "source": [
    "class Person:\n",
    "    def __init__(self,initialAge):\n",
    "        if initialAge > 0:\n",
    "            self.initialAge = initialAge\n",
    "        elif initialAge < 0:\n",
    "            self.initialAge = 0\n",
    "            print('Age is not valid, setting age to 0.')\n",
    "        # Add some more code to run some checks on initialAge\n",
    "    def amIOld(self):\n",
    "        # Do some computations in here and print out the correct statement to the console\n",
    "        if self.initialAge < 13:\n",
    "            print('You are young.')\n",
    "        elif 13 <= self.initialAge < 18:\n",
    "            print('You are a teenager.')\n",
    "        else:\n",
    "            print('You are old.')\n",
    "        \n",
    "    def yearPasses(self):\n",
    "        # Increment the age of the person in here\n",
    "        self.initialAge += 1"
   ]
  },
  {
   "cell_type": "code",
   "execution_count": 6,
   "metadata": {},
   "outputs": [
    {
     "name": "stdout",
     "output_type": "stream",
     "text": [
      "Age is not valid, setting age to 0\n",
      "You are young\n",
      "You are young\n",
      "\n",
      "You are young\n",
      "You are a teenager\n",
      "\n",
      "You are a teenager\n",
      "You are old\n",
      "\n",
      "You are old\n",
      "You are old\n",
      "\n"
     ]
    }
   ],
   "source": [
    "t = int(input())\n",
    "for i in range(0, t):\n",
    "    age = int(input())         \n",
    "    p = Person(age)  \n",
    "    p.amIOld()\n",
    "    for j in range(0, 3):\n",
    "        p.yearPasses()       \n",
    "    p.amIOld()\n",
    "    print(\"\")"
   ]
  },
  {
   "cell_type": "code",
   "execution_count": null,
   "metadata": {},
   "outputs": [],
   "source": []
  }
 ],
 "metadata": {
  "kernelspec": {
   "display_name": "Python 3.10.8 64-bit (microsoft store)",
   "language": "python",
   "name": "python3"
  },
  "language_info": {
   "codemirror_mode": {
    "name": "ipython",
    "version": 3
   },
   "file_extension": ".py",
   "mimetype": "text/x-python",
   "name": "python",
   "nbconvert_exporter": "python",
   "pygments_lexer": "ipython3",
   "version": "3.10.8"
  },
  "orig_nbformat": 4,
  "vscode": {
   "interpreter": {
    "hash": "2df53de82fe139b23b9a340061c8527273b7fa86551030a1983ff618b17018eb"
   }
  }
 },
 "nbformat": 4,
 "nbformat_minor": 2
}
